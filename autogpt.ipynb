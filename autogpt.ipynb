{
 "cells": [
  {
   "attachments": {},
   "cell_type": "markdown",
   "id": "152e6e23",
   "metadata": {},
   "source": [
    "这段代码包括资源限制器修饰器resource_limiter，constrain_tools函数以及一个示例，演示如何使用资源限制器来限制AutoGPT的工具使用。在这个示例中，我们将搜索工具（serpapi）的资源消耗设置为5，llm-math工具的资源消耗设置为3。"
   ]
  },
  {
   "cell_type": "code",
   "execution_count": 3,
   "id": "5dfd57b2",
   "metadata": {},
   "outputs": [
    {
     "name": "stdout",
     "output_type": "stream",
     "text": [
      "\n",
      "\n",
      "\u001b[1m> Entering new AgentExecutor chain...\u001b[0m\n",
      "\u001b[32;1m\u001b[1;3mI need to find out Leo DiCaprio's girlfriend's name and her age.\n",
      "Action: Google Search\n",
      "Action Input: \"Leo DiCaprio girlfriend\"\u001b[0mAutogpt resources: 50\n",
      "\u001b[36;1m\u001b[1;3mLeonardo DiCaprio has split from girlfriend Camila Morrone. Getty. The Titanic actor hasn't been in a relationship with a woman over the age of ...\u001b[0m\u001b[32;1m\u001b[1;3mI need to find out Camila Morrone's age.\n",
      "Action: Google Search\n",
      "Action Input: \"Camila Morrone age\"\u001b[0mAutogpt resources: 45\n",
      "\u001b[36;1m\u001b[1;3m25 years\u001b[0m\u001b[32;1m\u001b[1;3mI need to calculate her age raised to the 0.43 power.\n",
      "Action: Calculator\n",
      "Action Input: 25^(0.43)\u001b[0mAutogpt resources: 40\n",
      "\u001b[33;1m\u001b[1;3mAnswer: 3.991298452658078\u001b[0m\u001b[32;1m\u001b[1;3mI now know the final answer.\n",
      "Final Answer: Camila Morrone's current age raised to the 0.43 power is approximately 3.99.\u001b[0m\n",
      "\n",
      "\u001b[1m> Finished chain.\u001b[0m\n"
     ]
    },
    {
     "data": {
      "text/plain": [
       "\"Camila Morrone's current age raised to the 0.43 power is approximately 3.99.\""
      ]
     },
     "execution_count": 3,
     "metadata": {},
     "output_type": "execute_result"
    }
   ],
   "source": [
    "from langchain.agents import load_tools, initialize_agent, AgentType\n",
    "from langchain.chat_models import ChatOpenAI\n",
    "from functools import wraps\n",
    "\n",
    "# 设置全局资源量\n",
    "autogpt_resources = 50\n",
    "\n",
    "# 资源限制器修饰器\n",
    "def resource_limiter(resource_cost):\n",
    "    global autogpt_resources\n",
    "\n",
    "    def decorator(func):\n",
    "        @wraps(func)\n",
    "        def wrapper(*args, **kwargs):\n",
    "            global autogpt_resources\n",
    "            print(f\"Autogpt resources: {autogpt_resources}\")\n",
    "            if autogpt_resources < resource_cost:\n",
    "                raise ValueError(f\"Not enough resources. Available: {autogpt_resources}, required: {resource_cost}\")\n",
    "            autogpt_resources -= resource_cost\n",
    "            return func(*args, **kwargs)\n",
    "\n",
    "        return wrapper\n",
    "\n",
    "    return decorator\n",
    "\n",
    "def constrain_tools(tool_costs, llm=None):\n",
    "    tool_names = list(tool_costs.keys())\n",
    "    resource_costs = list(tool_costs.values())\n",
    "    tools = load_tools(tool_names, llm=llm)\n",
    "\n",
    "    for i, tool in enumerate(tools):\n",
    "        tool.func = resource_limiter(resource_costs[i])(tool.func)\n",
    "\n",
    "    return tools\n",
    "\n",
    "# 配置工具名称和对应的资源消耗\n",
    "tool_costs = {\"serpapi\": 5, \"llm-math\": 3}\n",
    "\n",
    "llm = ChatOpenAI(temperature=0)\n",
    "tools = constrain_tools(tool_costs, llm=llm)\n",
    "tools[0].name = \"Google Search\"\n",
    "\n",
    "agent = initialize_agent(tools, llm, agent=AgentType.ZERO_SHOT_REACT_DESCRIPTION, verbose=True)\n",
    "agent.run(\"Who is Leo DiCaprio's girlfriend? What is her current age raised to the 0.43 power?\")\n"
   ]
  },
  {
   "cell_type": "code",
   "execution_count": null,
   "id": "3fcfae9d",
   "metadata": {},
   "outputs": [],
   "source": []
  }
 ],
 "metadata": {
  "kernelspec": {
   "display_name": "Python 3 (ipykernel)",
   "language": "python",
   "name": "python3"
  },
  "language_info": {
   "codemirror_mode": {
    "name": "ipython",
    "version": 3
   },
   "file_extension": ".py",
   "mimetype": "text/x-python",
   "name": "python",
   "nbconvert_exporter": "python",
   "pygments_lexer": "ipython3",
   "version": "3.9.16"
  }
 },
 "nbformat": 4,
 "nbformat_minor": 5
}
